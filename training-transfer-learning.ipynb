{
 "metadata": {
  "kernelspec": {
   "language": "python",
   "display_name": "Python 3",
   "name": "python3"
  },
  "language_info": {
   "name": "python",
   "version": "3.7.12",
   "mimetype": "text/x-python",
   "codemirror_mode": {
    "name": "ipython",
    "version": 3
   },
   "pygments_lexer": "ipython3",
   "nbconvert_exporter": "python",
   "file_extension": ".py"
  }
 },
 "nbformat_minor": 4,
 "nbformat": 4,
 "cells": [
  {
   "cell_type": "code",
   "execution_count": 6,
   "outputs": [
    {
     "name": "stdout",
     "output_type": "stream",
     "text": [
      "Collecting matplotlib\n",
      "  Using cached matplotlib-3.7.1-cp311-cp311-win_amd64.whl (7.6 MB)\n",
      "Collecting contourpy>=1.0.1\n",
      "  Using cached contourpy-1.0.7-cp311-cp311-win_amd64.whl (162 kB)\n",
      "Collecting cycler>=0.10\n",
      "  Using cached cycler-0.11.0-py3-none-any.whl (6.4 kB)\n",
      "Requirement already satisfied: fonttools>=4.22.0 in c:\\python311\\lib\\site-packages (from matplotlib) (4.39.3)\n",
      "Requirement already satisfied: kiwisolver>=1.0.1 in c:\\python311\\lib\\site-packages (from matplotlib) (1.4.4)\n",
      "Requirement already satisfied: numpy>=1.20 in c:\\users\\kio\\appdata\\roaming\\python\\python311\\site-packages (from matplotlib) (1.23.5)\n",
      "Requirement already satisfied: packaging>=20.0 in c:\\users\\kio\\appdata\\roaming\\python\\python311\\site-packages (from matplotlib) (23.0)\n",
      "Requirement already satisfied: pillow>=6.2.0 in c:\\python311\\lib\\site-packages (from matplotlib) (9.5.0)\n",
      "Requirement already satisfied: pyparsing>=2.3.1 in c:\\python311\\lib\\site-packages (from matplotlib) (3.0.9)\n",
      "Requirement already satisfied: python-dateutil>=2.7 in c:\\users\\kio\\appdata\\roaming\\python\\python311\\site-packages (from matplotlib) (2.8.2)\n",
      "Requirement already satisfied: six>=1.5 in c:\\users\\kio\\appdata\\roaming\\python\\python311\\site-packages (from python-dateutil>=2.7->matplotlib) (1.16.0)\n",
      "Installing collected packages: cycler, contourpy, matplotlib\n",
      "Successfully installed contourpy-1.0.7 cycler-0.11.0 matplotlib-3.7.1\n"
     ]
    },
    {
     "name": "stderr",
     "output_type": "stream",
     "text": [
      "\n",
      "[notice] A new release of pip available: 22.3.1 -> 23.0.1\n",
      "[notice] To update, run: python.exe -m pip install --upgrade pip\n"
     ]
    }
   ],
   "source": [
    "!pip install matplotlib --user"
   ],
   "metadata": {
    "collapsed": false,
    "ExecuteTime": {
     "start_time": "2023-04-13T14:59:43.656988Z",
     "end_time": "2023-04-13T14:59:48.616388Z"
    }
   }
  },
  {
   "cell_type": "code",
   "source": [
    "%matplotlib inline\n",
    "import matplotlib.pyplot as plt\n",
    "import numpy as np\n",
    "import tensorflow as tf\n",
    "import random\n",
    "from cv2 import resize\n",
    "from glob import glob"
   ],
   "metadata": {
    "_uuid": "8f2839f25d086af736a60e9eeb907d3b93b6e0e5",
    "_cell_guid": "b1076dfc-b9ad-4769-8c92-a6c4dae69d19",
    "execution": {
     "iopub.status.busy": "2022-08-15T02:17:21.843412Z",
     "iopub.execute_input": "2022-08-15T02:17:21.843949Z",
     "iopub.status.idle": "2022-08-15T02:17:27.122734Z",
     "shell.execute_reply.started": "2022-08-15T02:17:21.843849Z",
     "shell.execute_reply": "2022-08-15T02:17:27.121135Z"
    },
    "trusted": true,
    "ExecuteTime": {
     "start_time": "2023-05-10T22:28:46.579584Z",
     "end_time": "2023-05-10T22:28:49.436424Z"
    }
   },
   "execution_count": 2,
   "outputs": []
  },
  {
   "cell_type": "markdown",
   "source": [],
   "metadata": {}
  },
  {
   "cell_type": "code",
   "source": [
    "img_height = 224\n",
    "img_width = 224\n",
    "\n",
    "\n",
    "train_ds = tf.keras.utils.image_dataset_from_directory(\n",
    "  'Dataset',\n",
    "  validation_split=0.2,\n",
    "  subset='training',\n",
    "  image_size=(img_height, img_width),\n",
    "  batch_size=32,\n",
    "  seed=42,\n",
    "  shuffle=True)\n",
    "\n",
    "val_ds = tf.keras.utils.image_dataset_from_directory(\n",
    "  'Dataset',\n",
    "  validation_split=0.2,\n",
    "  subset='validation',\n",
    "  image_size=(img_height, img_width),\n",
    "  batch_size=32,\n",
    "  seed=42,\n",
    "  shuffle=True)\n"
   ],
   "metadata": {
    "execution": {
     "iopub.status.busy": "2022-08-15T02:17:27.124874Z",
     "iopub.execute_input": "2022-08-15T02:17:27.125550Z",
     "iopub.status.idle": "2022-08-15T02:17:32.182363Z",
     "shell.execute_reply.started": "2022-08-15T02:17:27.125508Z",
     "shell.execute_reply": "2022-08-15T02:17:32.181370Z"
    },
    "trusted": true,
    "ExecuteTime": {
     "start_time": "2023-05-10T22:29:10.622894Z",
     "end_time": "2023-05-10T22:29:11.181198Z"
    }
   },
   "execution_count": 4,
   "outputs": [
    {
     "name": "stdout",
     "output_type": "stream",
     "text": [
      "Found 6279 files belonging to 7 classes.\n",
      "Using 5024 files for training.\n",
      "Found 6279 files belonging to 7 classes.\n",
      "Using 1255 files for validation.\n"
     ]
    }
   ]
  },
  {
   "cell_type": "markdown",
   "source": [
    "Let's load VGG-16 pretrained on imagenet as the base model."
   ],
   "metadata": {}
  },
  {
   "cell_type": "code",
   "source": [
    "base_model = tf.keras.applications.VGG16(\n",
    "    include_top=False,\n",
    "    weights='imagenet',\n",
    "    input_shape=(img_height, img_width, 3)\n",
    ")\n",
    "base_model.trainable = False # Freeze VGG-16 for now"
   ],
   "metadata": {
    "execution": {
     "iopub.status.busy": "2022-08-15T02:17:32.186777Z",
     "iopub.execute_input": "2022-08-15T02:17:32.188985Z",
     "iopub.status.idle": "2022-08-15T02:17:33.167698Z",
     "shell.execute_reply.started": "2022-08-15T02:17:32.188949Z",
     "shell.execute_reply": "2022-08-15T02:17:33.166686Z"
    },
    "trusted": true,
    "ExecuteTime": {
     "start_time": "2023-05-10T21:03:49.685728Z",
     "end_time": "2023-05-10T21:03:49.995037Z"
    }
   },
   "execution_count": 4,
   "outputs": []
  },
  {
   "cell_type": "markdown",
   "source": [],
   "metadata": {}
  },
  {
   "cell_type": "code",
   "source": [
    "inputs = tf.keras.Input(shape=(img_height, img_width, 3))\n",
    "x = tf.keras.applications.vgg16.preprocess_input(inputs)\n",
    "x = base_model(x, training=False)\n",
    "x = tf.keras.layers.GlobalAveragePooling2D()(x)\n",
    "x = tf.keras.layers.Dropout(0.3)(x)\n",
    "outputs = tf.keras.layers.Dense(90)(x)\n",
    "model = tf.keras.Model(inputs, outputs)\n",
    "\n",
    "model.summary()"
   ],
   "metadata": {
    "execution": {
     "iopub.status.busy": "2022-08-15T02:17:33.170448Z",
     "iopub.execute_input": "2022-08-15T02:17:33.170847Z",
     "iopub.status.idle": "2022-08-15T02:17:33.252494Z",
     "shell.execute_reply.started": "2022-08-15T02:17:33.170809Z",
     "shell.execute_reply": "2022-08-15T02:17:33.251570Z"
    },
    "trusted": true,
    "ExecuteTime": {
     "start_time": "2023-05-10T21:04:06.529274Z",
     "end_time": "2023-05-10T21:04:06.591853Z"
    }
   },
   "execution_count": 6,
   "outputs": [
    {
     "name": "stdout",
     "output_type": "stream",
     "text": [
      "Model: \"model_1\"\n",
      "_________________________________________________________________\n",
      " Layer (type)                Output Shape              Param #   \n",
      "=================================================================\n",
      " input_3 (InputLayer)        [(None, 224, 224, 3)]     0         \n",
      "                                                                 \n",
      " tf.__operators__.getitem_1   (None, 224, 224, 3)      0         \n",
      " (SlicingOpLambda)                                               \n",
      "                                                                 \n",
      " tf.nn.bias_add_1 (TFOpLambd  (None, 224, 224, 3)      0         \n",
      " a)                                                              \n",
      "                                                                 \n",
      " vgg16 (Functional)          (None, 7, 7, 512)         14714688  \n",
      "                                                                 \n",
      " global_average_pooling2d_1   (None, 512)              0         \n",
      " (GlobalAveragePooling2D)                                        \n",
      "                                                                 \n",
      " dropout_1 (Dropout)         (None, 512)               0         \n",
      "                                                                 \n",
      " dense_1 (Dense)             (None, 90)                46170     \n",
      "                                                                 \n",
      "=================================================================\n",
      "Total params: 14,760,858\n",
      "Trainable params: 46,170\n",
      "Non-trainable params: 14,714,688\n",
      "_________________________________________________________________\n"
     ]
    }
   ]
  },
  {
   "cell_type": "markdown",
   "source": [],
   "metadata": {}
  },
  {
   "cell_type": "code",
   "execution_count": 7,
   "outputs": [],
   "source": [
    "model.compile(optimizer=tf.keras.optimizers.Adam(0.001),\n",
    "              loss=tf.keras.losses.SparseCategoricalCrossentropy(from_logits=True),\n",
    "              metrics=['accuracy'])"
   ],
   "metadata": {
    "collapsed": false,
    "ExecuteTime": {
     "start_time": "2023-05-10T21:04:09.093797Z",
     "end_time": "2023-05-10T21:04:09.104286Z"
    }
   }
  },
  {
   "cell_type": "code",
   "source": [
    "num_epochs = 10\n",
    "model.fit(train_ds, validation_data=val_ds, epochs=num_epochs,\n",
    "    callbacks = [\n",
    "        tf.keras.callbacks.EarlyStopping(\n",
    "            monitor=\"val_loss\",\n",
    "            min_delta=1e-2,\n",
    "            patience=2,\n",
    "            verbose=1,\n",
    "            restore_best_weights=True\n",
    "        )\n",
    "    ]\n",
    ")"
   ],
   "metadata": {
    "execution": {
     "iopub.status.busy": "2022-08-15T02:17:33.270955Z",
     "iopub.execute_input": "2022-08-15T02:17:33.271353Z",
     "iopub.status.idle": "2022-08-15T02:23:38.430957Z",
     "shell.execute_reply.started": "2022-08-15T02:17:33.271317Z",
     "shell.execute_reply": "2022-08-15T02:23:38.429972Z"
    },
    "trusted": true,
    "ExecuteTime": {
     "start_time": "2023-05-10T21:04:09.796656Z",
     "end_time": "2023-05-10T21:46:33.913893Z"
    }
   },
   "execution_count": 8,
   "outputs": [
    {
     "name": "stdout",
     "output_type": "stream",
     "text": [
      "Epoch 1/10\n",
      "157/157 [==============================] - 324s 2s/step - loss: 2.9968 - accuracy: 0.4047 - val_loss: 1.1774 - val_accuracy: 0.6215\n",
      "Epoch 2/10\n",
      "157/157 [==============================] - 323s 2s/step - loss: 1.2641 - accuracy: 0.5828 - val_loss: 0.9172 - val_accuracy: 0.6669\n",
      "Epoch 3/10\n",
      "157/157 [==============================] - 319s 2s/step - loss: 1.0184 - accuracy: 0.6365 - val_loss: 0.8214 - val_accuracy: 0.6916\n",
      "Epoch 4/10\n",
      "157/157 [==============================] - 316s 2s/step - loss: 0.9031 - accuracy: 0.6590 - val_loss: 0.7936 - val_accuracy: 0.6972\n",
      "Epoch 5/10\n",
      "157/157 [==============================] - 315s 2s/step - loss: 0.8547 - accuracy: 0.6833 - val_loss: 0.7941 - val_accuracy: 0.6964\n",
      "Epoch 6/10\n",
      "157/157 [==============================] - 319s 2s/step - loss: 0.8137 - accuracy: 0.6881 - val_loss: 0.7391 - val_accuracy: 0.7179\n",
      "Epoch 7/10\n",
      "157/157 [==============================] - 321s 2s/step - loss: 0.7867 - accuracy: 0.6941 - val_loss: 0.7927 - val_accuracy: 0.7124\n",
      "Epoch 8/10\n",
      "157/157 [==============================] - ETA: 0s - loss: 0.7846 - accuracy: 0.6851Restoring model weights from the end of the best epoch: 6.\n",
      "157/157 [==============================] - 307s 2s/step - loss: 0.7846 - accuracy: 0.6851 - val_loss: 0.7427 - val_accuracy: 0.7211\n",
      "Epoch 8: early stopping\n"
     ]
    },
    {
     "data": {
      "text/plain": "<keras.callbacks.History at 0x2a142926210>"
     },
     "execution_count": 8,
     "metadata": {},
     "output_type": "execute_result"
    }
   ]
  },
  {
   "cell_type": "markdown",
   "source": [],
   "metadata": {}
  },
  {
   "cell_type": "code",
   "source": [
    "# fine tuning\n",
    "base_model.trainable = True\n",
    "for layer in base_model.layers[:14]:\n",
    "    layer.trainable = False\n",
    "model.summary()"
   ],
   "metadata": {
    "execution": {
     "iopub.status.busy": "2022-08-15T02:23:38.432669Z",
     "iopub.execute_input": "2022-08-15T02:23:38.433050Z",
     "iopub.status.idle": "2022-08-15T02:23:38.444864Z",
     "shell.execute_reply.started": "2022-08-15T02:23:38.433016Z",
     "shell.execute_reply": "2022-08-15T02:23:38.441559Z"
    },
    "trusted": true,
    "ExecuteTime": {
     "start_time": "2023-05-10T21:50:15.896961Z",
     "end_time": "2023-05-10T21:50:15.909875Z"
    }
   },
   "execution_count": 10,
   "outputs": [
    {
     "name": "stdout",
     "output_type": "stream",
     "text": [
      "Model: \"model_1\"\n",
      "_________________________________________________________________\n",
      " Layer (type)                Output Shape              Param #   \n",
      "=================================================================\n",
      " input_3 (InputLayer)        [(None, 224, 224, 3)]     0         \n",
      "                                                                 \n",
      " tf.__operators__.getitem_1   (None, 224, 224, 3)      0         \n",
      " (SlicingOpLambda)                                               \n",
      "                                                                 \n",
      " tf.nn.bias_add_1 (TFOpLambd  (None, 224, 224, 3)      0         \n",
      " a)                                                              \n",
      "                                                                 \n",
      " vgg16 (Functional)          (None, 7, 7, 512)         14714688  \n",
      "                                                                 \n",
      " global_average_pooling2d_1   (None, 512)              0         \n",
      " (GlobalAveragePooling2D)                                        \n",
      "                                                                 \n",
      " dropout_1 (Dropout)         (None, 512)               0         \n",
      "                                                                 \n",
      " dense_1 (Dense)             (None, 90)                46170     \n",
      "                                                                 \n",
      "=================================================================\n",
      "Total params: 14,760,858\n",
      "Trainable params: 7,125,594\n",
      "Non-trainable params: 7,635,264\n",
      "_________________________________________________________________\n"
     ]
    }
   ]
  },
  {
   "cell_type": "code",
   "source": [
    "model.compile(optimizer=tf.keras.optimizers.Adam(0.0001),\n",
    "              loss=tf.keras.losses.SparseCategoricalCrossentropy(from_logits=True),\n",
    "              metrics=['accuracy'])"
   ],
   "metadata": {
    "execution": {
     "iopub.status.busy": "2022-08-15T02:23:38.447080Z",
     "iopub.execute_input": "2022-08-15T02:23:38.447687Z",
     "iopub.status.idle": "2022-08-15T02:23:38.460869Z",
     "shell.execute_reply.started": "2022-08-15T02:23:38.447645Z",
     "shell.execute_reply": "2022-08-15T02:23:38.459917Z"
    },
    "trusted": true,
    "ExecuteTime": {
     "start_time": "2023-05-10T21:50:19.838895Z",
     "end_time": "2023-05-10T21:50:19.845998Z"
    }
   },
   "execution_count": 11,
   "outputs": []
  },
  {
   "cell_type": "code",
   "source": [
    "num_epochs = 5\n",
    "history = model.fit(train_ds, validation_data=val_ds, epochs=num_epochs,\n",
    "    callbacks = [\n",
    "        tf.keras.callbacks.EarlyStopping(\n",
    "            monitor=\"val_loss\",\n",
    "            min_delta=1e-2,\n",
    "            patience=2,\n",
    "            verbose=1,\n",
    "        )\n",
    "    ]\n",
    ")"
   ],
   "metadata": {
    "execution": {
     "iopub.status.busy": "2022-08-15T02:23:38.468136Z",
     "iopub.execute_input": "2022-08-15T02:23:38.468396Z",
     "iopub.status.idle": "2022-08-15T02:26:06.917080Z",
     "shell.execute_reply.started": "2022-08-15T02:23:38.468373Z",
     "shell.execute_reply": "2022-08-15T02:26:06.915963Z"
    },
    "trusted": true,
    "ExecuteTime": {
     "start_time": "2023-05-10T21:50:33.127321Z",
     "end_time": "2023-05-10T22:21:59.749184Z"
    }
   },
   "execution_count": 12,
   "outputs": [
    {
     "name": "stdout",
     "output_type": "stream",
     "text": [
      "Epoch 1/5\n",
      "157/157 [==============================] - 377s 2s/step - loss: 0.8008 - accuracy: 0.6871 - val_loss: 0.6507 - val_accuracy: 0.7625\n",
      "Epoch 2/5\n",
      "157/157 [==============================] - 379s 2s/step - loss: 0.5466 - accuracy: 0.7858 - val_loss: 0.5795 - val_accuracy: 0.7777\n",
      "Epoch 3/5\n",
      "157/157 [==============================] - 378s 2s/step - loss: 0.3798 - accuracy: 0.8545 - val_loss: 0.5397 - val_accuracy: 0.8215\n",
      "Epoch 4/5\n",
      "157/157 [==============================] - 380s 2s/step - loss: 0.2704 - accuracy: 0.8965 - val_loss: 0.6630 - val_accuracy: 0.7944\n",
      "Epoch 5/5\n",
      "157/157 [==============================] - 372s 2s/step - loss: 0.2156 - accuracy: 0.9218 - val_loss: 0.6847 - val_accuracy: 0.8096\n",
      "Epoch 5: early stopping\n"
     ]
    }
   ]
  },
  {
   "cell_type": "code",
   "execution_count": 15,
   "outputs": [
    {
     "data": {
      "text/plain": "<Figure size 1000x1000 with 2 Axes>",
      "image/png": "[encoded data removed]"
     },
     "metadata": {},
     "output_type": "display_data"
    }
   ],
   "source": [
    "# Model Evaluation by comparing the training and validation accuracy as well as the loss.\n",
    "acc = history.history['accuracy']\n",
    "history.history\n",
    "val_acc = history.history['val_accuracy']\n",
    "\n",
    "loss = history.history['loss']\n",
    "val_loss = history.history['val_loss']\n",
    "#\n",
    "epochs_range = range(5)\n",
    "#\n",
    "plt.figure(figsize=(10, 10))\n",
    "plt.subplot(1, 2, 1)\n",
    "plt.plot(epochs_range, acc, label='Training Accuracy')\n",
    "plt.plot(epochs_range, val_acc, label='Validation Accuracy')\n",
    "plt.legend(loc='lower right')\n",
    "plt.title('Training and Validation Accuracy')\n",
    "#\n",
    "plt.subplot(1, 2, 2)\n",
    "plt.plot(epochs_range, loss, label='Training Loss')\n",
    "plt.plot(epochs_range, val_loss, label='Validation Loss')\n",
    "plt.legend(loc='upper right')\n",
    "plt.title('Training and Validation Loss')\n",
    "plt.show()"
   ],
   "metadata": {
    "collapsed": false,
    "ExecuteTime": {
     "start_time": "2023-05-10T22:25:21.802895Z",
     "end_time": "2023-05-10T22:25:22.070427Z"
    }
   }
  },
  {
   "cell_type": "code",
   "execution_count": 16,
   "outputs": [],
   "source": [
    "model.save(\"poisonous-plants.h5\")"
   ],
   "metadata": {
    "collapsed": false,
    "ExecuteTime": {
     "start_time": "2023-05-10T22:26:55.173298Z",
     "end_time": "2023-05-10T22:26:55.283748Z"
    }
   }
  },
  {
   "cell_type": "markdown",
   "source": [
    "After training, choose a random picture and see its prediction."
   ],
   "metadata": {}
  },
  {
   "cell_type": "code",
   "execution_count": 5,
   "outputs": [
    {
     "ename": "NameError",
     "evalue": "name 'model' is not defined",
     "output_type": "error",
     "traceback": [
      "\u001B[1;31m---------------------------------------------------------------------------\u001B[0m",
      "\u001B[1;31mNameError\u001B[0m                                 Traceback (most recent call last)",
      "Cell \u001B[1;32mIn[5], line 9\u001B[0m\n\u001B[0;32m      6\u001B[0m img_array \u001B[38;5;241m=\u001B[39m tf\u001B[38;5;241m.\u001B[39mkeras\u001B[38;5;241m.\u001B[39mutils\u001B[38;5;241m.\u001B[39mimg_to_array(img)\n\u001B[0;32m      7\u001B[0m img_array \u001B[38;5;241m=\u001B[39m tf\u001B[38;5;241m.\u001B[39mexpand_dims(img_array, \u001B[38;5;241m0\u001B[39m) \u001B[38;5;66;03m# Create a batch\u001B[39;00m\n\u001B[1;32m----> 9\u001B[0m predictions \u001B[38;5;241m=\u001B[39m \u001B[43mmodel\u001B[49m\u001B[38;5;241m.\u001B[39mpredict(img_array)\n\u001B[0;32m     10\u001B[0m score \u001B[38;5;241m=\u001B[39m tf\u001B[38;5;241m.\u001B[39mnn\u001B[38;5;241m.\u001B[39msoftmax(predictions[\u001B[38;5;241m0\u001B[39m])\n\u001B[0;32m     11\u001B[0m \u001B[38;5;28mprint\u001B[39m(\n\u001B[0;32m     12\u001B[0m     \u001B[38;5;124m\"\u001B[39m\u001B[38;5;132;01m{}\u001B[39;00m\u001B[38;5;124m most likely belongs to \u001B[39m\u001B[38;5;132;01m{}\u001B[39;00m\u001B[38;5;124m with a \u001B[39m\u001B[38;5;132;01m{:.2f}\u001B[39;00m\u001B[38;5;124m percent confidence.\u001B[39m\u001B[38;5;124m\"\u001B[39m\n\u001B[0;32m     13\u001B[0m     \u001B[38;5;241m.\u001B[39mformat(detection_path, train_ds\u001B[38;5;241m.\u001B[39mclass_names[np\u001B[38;5;241m.\u001B[39margmax(score)], \u001B[38;5;241m100\u001B[39m \u001B[38;5;241m*\u001B[39m np\u001B[38;5;241m.\u001B[39mmax(score))\n\u001B[0;32m     14\u001B[0m )\n",
      "\u001B[1;31mNameError\u001B[0m: name 'model' is not defined"
     ]
    }
   ],
   "source": [
    "detection_path = \"Dataset/Not/1.jpg\"\n",
    "\n",
    "img = tf.keras.utils.load_img(\n",
    "    detection_path, target_size=(img_height, img_width)\n",
    ")\n",
    "img_array = tf.keras.utils.img_to_array(img)\n",
    "img_array = tf.expand_dims(img_array, 0) # Create a batch\n",
    "\n",
    "predictions = model.predict(img_array)\n",
    "score = tf.nn.softmax(predictions[0])\n",
    "print(\n",
    "    \"{} most likely belongs to {} with a {:.2f} percent confidence.\"\n",
    "    .format(detection_path, train_ds.class_names[np.argmax(score)], 100 * np.max(score))\n",
    ")\n",
    "\n",
    "plt.figure(figsize=(2, 2))\n",
    "plt.imshow((img_array[0].numpy()).astype('uint8'))\n",
    "plt.title(\"{}:{:.2f}\".format(train_ds.class_names[np.argmax(score)], 100 * np.max(score)))\n",
    "plt.axis('off')"
   ],
   "metadata": {
    "collapsed": false,
    "ExecuteTime": {
     "start_time": "2023-05-10T22:26:58.456366Z",
     "end_time": "2023-05-10T22:26:58.803068Z"
    }
   }
  },
  {
   "cell_type": "code",
   "execution_count": null,
   "outputs": [],
   "source": [],
   "metadata": {
    "collapsed": false
   }
  }
 ]
}
